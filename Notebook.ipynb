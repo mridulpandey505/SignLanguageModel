{
 "cells": [
  {
   "cell_type": "code",
   "execution_count": null,
   "metadata": {
    "execution": {
     "iopub.execute_input": "2025-06-10T11:10:13.628019Z",
     "iopub.status.busy": "2025-06-10T11:10:13.627836Z",
     "iopub.status.idle": "2025-06-10T11:10:37.408121Z",
     "shell.execute_reply": "2025-06-10T11:10:37.407134Z",
     "shell.execute_reply.started": "2025-06-10T11:10:13.628002Z"
    },
    "trusted": true
   },
   "outputs": [],
   "source": [
    "import os\n",
    "import warnings as w\n",
    "w.filterwarnings('ignore')\n",
    "import pandas as pd\n",
    "import numpy as np\n",
    "import tensorflow as tf\n",
    "from tensorflow import keras\n",
    "import matplotlib.pyplot as plt"
   ]
  },
  {
   "cell_type": "code",
   "execution_count": null,
   "metadata": {
    "execution": {
     "iopub.execute_input": "2025-06-10T11:10:47.346027Z",
     "iopub.status.busy": "2025-06-10T11:10:47.345342Z",
     "iopub.status.idle": "2025-06-10T11:10:47.349884Z",
     "shell.execute_reply": "2025-06-10T11:10:47.349187Z",
     "shell.execute_reply.started": "2025-06-10T11:10:47.345998Z"
    },
    "trusted": true
   },
   "outputs": [],
   "source": [
    "train_dir = '/input/asl-alphabet/asl_alphabet_train/asl_alphabet_train'\n",
    "test_dir = '/input/asl-alphabet/asl_alphabet_test'"
   ]
  },
  {
   "cell_type": "code",
   "execution_count": null,
   "metadata": {
    "execution": {
     "iopub.execute_input": "2025-06-10T11:10:51.591260Z",
     "iopub.status.busy": "2025-06-10T11:10:51.590438Z",
     "iopub.status.idle": "2025-06-10T11:12:23.970473Z",
     "shell.execute_reply": "2025-06-10T11:12:23.969737Z",
     "shell.execute_reply.started": "2025-06-10T11:10:51.591231Z"
    },
    "trusted": true
   },
   "outputs": [],
   "source": [
    "train_data, val_data = keras.utils.image_dataset_from_directory(\n",
    "    train_dir, \n",
    "    labels = 'inferred',\n",
    "    label_mode = 'categorical',\n",
    "    validation_split = 0.25,\n",
    "    subset = 'both',\n",
    "    shuffle = True,\n",
    "    seed = 1223,\n",
    "    batch_size = 64,\n",
    "    image_size = (256,256)\n",
    ") "
   ]
  },
  {
   "cell_type": "code",
   "execution_count": null,
   "metadata": {
    "execution": {
     "iopub.execute_input": "2025-06-10T11:12:39.153898Z",
     "iopub.status.busy": "2025-06-10T11:12:39.153606Z",
     "iopub.status.idle": "2025-06-10T11:12:39.271251Z",
     "shell.execute_reply": "2025-06-10T11:12:39.270244Z",
     "shell.execute_reply.started": "2025-06-10T11:12:39.153878Z"
    },
    "trusted": true
   },
   "outputs": [],
   "source": [
    "test_data = keras.utils.image_dataset_from_directory(\n",
    "    test_dir, \n",
    "    labels = 'inferred',\n",
    "    label_mode = 'categorical',\n",
    "    image_size = (256,256)\n",
    ")"
   ]
  },
  {
   "cell_type": "code",
   "execution_count": null,
   "metadata": {},
   "outputs": [],
   "source": [
    "classes = train_data.class_names"
   ]
  },
  {
   "cell_type": "code",
   "execution_count": null,
   "metadata": {
    "execution": {
     "iopub.execute_input": "2025-06-10T11:12:56.803731Z",
     "iopub.status.busy": "2025-06-10T11:12:56.803366Z",
     "iopub.status.idle": "2025-06-10T11:12:58.579164Z",
     "shell.execute_reply": "2025-06-10T11:12:58.578258Z",
     "shell.execute_reply.started": "2025-06-10T11:12:56.803707Z"
    },
    "trusted": true
   },
   "outputs": [],
   "source": [
    "for img, label in test_data.take(1):\n",
    "    for i in range(0,28):\n",
    "        plt.subplot(7,4,i+1),\n",
    "        plt.imshow(img[i].numpy().astype('uint'))\n",
    "        plt.title(classes[np.argmax((label[i].numpy().astype('uint')))])\n",
    "        plt.axis('off')"
   ]
  },
  {
   "cell_type": "code",
   "execution_count": null,
   "metadata": {
    "execution": {
     "iopub.execute_input": "2025-06-10T11:13:09.937329Z",
     "iopub.status.busy": "2025-06-10T11:13:09.936586Z",
     "iopub.status.idle": "2025-06-10T11:13:09.942397Z",
     "shell.execute_reply": "2025-06-10T11:13:09.941630Z",
     "shell.execute_reply.started": "2025-06-10T11:13:09.937305Z"
    },
    "trusted": true
   },
   "outputs": [],
   "source": [
    "test_class = test_data.class_names"
   ]
  },
  {
   "cell_type": "code",
   "execution_count": null,
   "metadata": {
    "execution": {
     "iopub.execute_input": "2025-06-10T11:13:12.168773Z",
     "iopub.status.busy": "2025-06-10T11:13:12.168405Z",
     "iopub.status.idle": "2025-06-10T11:13:15.010979Z",
     "shell.execute_reply": "2025-06-10T11:13:15.010071Z",
     "shell.execute_reply.started": "2025-06-10T11:13:12.168749Z"
    },
    "trusted": true
   },
   "outputs": [],
   "source": [
    "for img, label in train_data.take(1):\n",
    "    for i in range(0,36):\n",
    "        plt.subplot(6,6,i+1),\n",
    "        plt.imshow(img[i].numpy().astype('uint'))\n",
    "        plt.title(classes[np.argmax((label[i].numpy().astype('uint')))])\n",
    "        plt.axis('off')"
   ]
  },
  {
   "cell_type": "code",
   "execution_count": null,
   "metadata": {
    "execution": {
     "iopub.execute_input": "2025-06-10T11:13:51.644188Z",
     "iopub.status.busy": "2025-06-10T11:13:51.643555Z",
     "iopub.status.idle": "2025-06-10T11:13:51.650302Z",
     "shell.execute_reply": "2025-06-10T11:13:51.649380Z",
     "shell.execute_reply.started": "2025-06-10T11:13:51.644163Z"
    },
    "trusted": true
   },
   "outputs": [],
   "source": [
    "resize_and_rescale = keras.Sequential([\n",
    "    keras.layers.Resizing(256,256),\n",
    "    keras.layers.Rescaling(1./255)\n",
    "])"
   ]
  },
  {
   "cell_type": "code",
   "execution_count": null,
   "metadata": {
    "execution": {
     "iopub.execute_input": "2025-06-10T11:17:38.178503Z",
     "iopub.status.busy": "2025-06-10T11:17:38.177688Z",
     "iopub.status.idle": "2025-06-10T11:17:38.309242Z",
     "shell.execute_reply": "2025-06-10T11:17:38.308618Z",
     "shell.execute_reply.started": "2025-06-10T11:17:38.178443Z"
    },
    "trusted": true
   },
   "outputs": [],
   "source": [
    "conv_model = keras.Sequential([\n",
    "    keras.layers.Input(shape = (256, 256, 3)),\n",
    "    resize_and_rescale,\n",
    "    \n",
    "    keras.layers.Conv2D(32, (3,3), activation= 'relu', padding = 'same'),\n",
    "    keras.layers.BatchNormalization(),\n",
    "    keras.layers.MaxPooling2D((2,2)),\n",
    "    keras.layers.Dropout(0.2),\n",
    "\n",
    "    keras.layers.Conv2D(64, (3,3), activation= 'relu', padding = 'same'),\n",
    "    keras.layers.BatchNormalization(),\n",
    "    keras.layers.MaxPooling2D((2,2)),\n",
    "    keras.layers.Dropout(0.3),\n",
    "\n",
    "    keras.layers.Conv2D(128, (3,3), activation= 'relu', padding = 'same'),\n",
    "    keras.layers.BatchNormalization(),\n",
    "    keras.layers.MaxPooling2D((2,2)),\n",
    "    keras.layers.Dropout(0.4),\n",
    "\n",
    "    keras.layers.Conv2D(256, (3,3), activation= 'relu', padding = 'same'),\n",
    "    keras.layers.BatchNormalization(),\n",
    "    keras.layers.MaxPooling2D((2,2)),\n",
    "    keras.layers.Dropout(0.5),\n",
    "\n",
    "    keras.layers.Flatten(),\n",
    "    \n",
    "    keras.layers.Dense(256, activation = 'relu'),\n",
    "    keras.layers.BatchNormalization(),\n",
    "    keras.layers.Dropout(0.6),\n",
    "\n",
    "    keras.layers.Dense(256, activation = 'relu'),\n",
    "    keras.layers.BatchNormalization(),\n",
    "    keras.layers.Dropout(0.4),\n",
    "    \n",
    "    keras.layers.Dense(len(classes), activation = 'softmax')\n",
    "])"
   ]
  },
  {
   "cell_type": "code",
   "execution_count": null,
   "metadata": {
    "execution": {
     "iopub.execute_input": "2025-06-10T11:17:43.407240Z",
     "iopub.status.busy": "2025-06-10T11:17:43.406947Z",
     "iopub.status.idle": "2025-06-10T11:17:43.437847Z",
     "shell.execute_reply": "2025-06-10T11:17:43.437249Z",
     "shell.execute_reply.started": "2025-06-10T11:17:43.407221Z"
    },
    "trusted": true
   },
   "outputs": [],
   "source": [
    "conv_model.summary()"
   ]
  },
  {
   "cell_type": "code",
   "execution_count": null,
   "metadata": {
    "execution": {
     "iopub.execute_input": "2025-06-10T11:17:59.142597Z",
     "iopub.status.busy": "2025-06-10T11:17:59.142251Z",
     "iopub.status.idle": "2025-06-10T11:17:59.151863Z",
     "shell.execute_reply": "2025-06-10T11:17:59.150940Z",
     "shell.execute_reply.started": "2025-06-10T11:17:59.142574Z"
    },
    "trusted": true
   },
   "outputs": [],
   "source": [
    "conv_model.compile(optimizer = 'adam',\n",
    "                   loss = 'categorical_crossentropy',\n",
    "                   metrics = ['accuracy'])"
   ]
  },
  {
   "cell_type": "code",
   "execution_count": null,
   "metadata": {},
   "outputs": [],
   "source": [
    "from keras.callbacks import EarlyStopping\n",
    "\n",
    "early_stop = EarlyStopping(\n",
    "    monitor = 'val_loss',\n",
    "    patience = 3,\n",
    "    restore_best_weights = True,\n",
    "    mode = 'auto'\n",
    ")"
   ]
  },
  {
   "cell_type": "code",
   "execution_count": null,
   "metadata": {
    "execution": {
     "iopub.execute_input": "2025-06-10T11:41:18.102112Z",
     "iopub.status.busy": "2025-06-10T11:41:18.101822Z",
     "iopub.status.idle": "2025-06-10T11:59:30.784106Z",
     "shell.execute_reply": "2025-06-10T11:59:30.783316Z",
     "shell.execute_reply.started": "2025-06-10T11:41:18.102091Z"
    },
    "trusted": true
   },
   "outputs": [],
   "source": [
    "history = conv_model.fit(\n",
    "    train_data,\n",
    "    validation_data = val_data,\n",
    "    epochs = 20,\n",
    "    callbacks=[early_stop],\n",
    "    batch_size = 128\n",
    ")"
   ]
  },
  {
   "cell_type": "code",
   "execution_count": null,
   "metadata": {
    "execution": {
     "iopub.execute_input": "2025-06-10T12:00:14.262293Z",
     "iopub.status.busy": "2025-06-10T12:00:14.261984Z",
     "iopub.status.idle": "2025-06-10T12:00:14.498769Z",
     "shell.execute_reply": "2025-06-10T12:00:14.497879Z",
     "shell.execute_reply.started": "2025-06-10T12:00:14.262272Z"
    },
    "trusted": true
   },
   "outputs": [],
   "source": [
    "plt.plot(history.history['accuracy'], label='Training Accuracy')\n",
    "plt.plot(history.history['val_accuracy'], label='Validation Accuracy')\n",
    "plt.title('Model Accuracy')\n",
    "plt.ylabel('Accuracy')\n",
    "plt.xlabel('Epoch')\n",
    "plt.legend()\n",
    "plt.grid(True)\n",
    "plt.show()"
   ]
  },
  {
   "cell_type": "code",
   "execution_count": null,
   "metadata": {},
   "outputs": [],
   "source": [
    "\n"
   ]
  }
 ],
 "metadata": {
  "kaggle": {
   "accelerator": "nvidiaTeslaT4",
   "dataSources": [
    {
     "datasetId": 23079,
     "sourceId": 29550,
     "sourceType": "datasetVersion"
    }
   ],
   "dockerImageVersionId": 31012,
   "isGpuEnabled": true,
   "isInternetEnabled": true,
   "language": "python",
   "sourceType": "notebook"
  },
  "kernelspec": {
   "display_name": "Python 3",
   "language": "python",
   "name": "python3"
  },
  "language_info": {
   "codemirror_mode": {
    "name": "ipython",
    "version": 3
   },
   "file_extension": ".py",
   "mimetype": "text/x-python",
   "name": "python",
   "nbconvert_exporter": "python",
   "pygments_lexer": "ipython3",
   "version": "3.11.3"
  }
 },
 "nbformat": 4,
 "nbformat_minor": 4
}
